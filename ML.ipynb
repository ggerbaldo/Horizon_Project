{
 "cells": [
  {
   "cell_type": "code",
   "execution_count": 3,
   "metadata": {},
   "outputs": [
    {
     "name": "stdout",
     "output_type": "stream",
     "text": [
      "Requirement already satisfied: faiss-cpu in c:\\users\\jessi\\appdata\\local\\programs\\python\\python312\\lib\\site-packages (1.8.0.post1)\n",
      "Requirement already satisfied: numpy<2.0,>=1.0 in c:\\users\\jessi\\appdata\\local\\programs\\python\\python312\\lib\\site-packages (from faiss-cpu) (1.26.3)\n",
      "Requirement already satisfied: packaging in c:\\users\\jessi\\appdata\\roaming\\python\\python312\\site-packages (from faiss-cpu) (23.2)\n"
     ]
    },
    {
     "name": "stderr",
     "output_type": "stream",
     "text": [
      "\n",
      "[notice] A new release of pip is available: 24.1.1 -> 24.2\n",
      "[notice] To update, run: python.exe -m pip install --upgrade pip\n"
     ]
    }
   ],
   "source": [
    "import sys\n",
    "!{sys.executable} -m pip install faiss-cpu"
   ]
  },
  {
   "cell_type": "code",
   "execution_count": 4,
   "metadata": {},
   "outputs": [],
   "source": [
    "import pandas as pd \n",
    "import matplotlib.pyplot as plt\n",
    "import seaborn as sns\n",
    "from sklearn.preprocessing import StandardScaler\n",
    "from sklearn.metrics.pairwise import cosine_similarity\n",
    "import faiss\n",
    "\n"
   ]
  },
  {
   "cell_type": "code",
   "execution_count": 5,
   "metadata": {},
   "outputs": [],
   "source": [
    "tennessee = pd.read_csv(r\"C:\\Users\\jessi\\Desktop\\Proyecto Final Henry\\Tennesse.csv\")\n",
    "georgia = pd.read_csv(r\"C:\\Users\\jessi\\Desktop\\Proyecto Final Henry\\Georgia.csv\")\n",
    "ohio = pd.read_csv(r\"C:\\Users\\jessi\\Desktop\\Proyecto Final Henry\\Ohio.csv\")\n",
    "california = pd.read_csv(r\"C:\\Users\\jessi\\Desktop\\Proyecto Final Henry\\California.csv\")\n",
    "florida = pd.read_csv(r\"C:\\Users\\jessi\\Desktop\\Proyecto Final Henry\\Florida.csv\")\n",
    "washington = pd.read_csv(r\"C:\\Users\\jessi\\Desktop\\Proyecto Final Henry\\Washington.csv\")\n",
    "colorado = pd.read_csv(r\"C:\\Users\\jessi\\Desktop\\Proyecto Final Henry\\Colorado.csv\")\n",
    "massachusetts = pd.read_csv(r\"C:\\Users\\jessi\\Desktop\\Proyecto Final Henry\\Massachusetts.csv\")\n",
    "kansas = pd.read_csv(r\"C:\\Users\\jessi\\Desktop\\Proyecto Final Henry\\Kansas.csv\")\n",
    "north_carolina = pd.read_csv(r\"C:\\Users\\jessi\\Desktop\\Proyecto Final Henry\\North_Carolina.csv\")\n",
    "missouri = pd.read_csv(r\"C:\\Users\\jessi\\Desktop\\Proyecto Final Henry\\Missouri.csv\")\n",
    "minnesota = pd.read_csv(r\"C:\\Users\\jessi\\Desktop\\Proyecto Final Henry\\Minnesota.csv\")\n",
    "pennsylvania = pd.read_csv(r\"C:\\Users\\jessi\\Desktop\\Proyecto Final Henry\\Pennsylvania.csv\")\n",
    "utah = pd.read_csv(r\"C:\\Users\\jessi\\Desktop\\Proyecto Final Henry\\Utah.csv\")\n",
    "illinois = pd.read_csv(r\"C:\\Users\\jessi\\Desktop\\Proyecto Final Henry\\Illinois.csv\")\n",
    "texas = pd.read_csv(r\"C:\\Users\\jessi\\Desktop\\Proyecto Final Henry\\Texas.csv\")\n",
    "oregon = pd.read_csv(r\"C:\\Users\\jessi\\Desktop\\Proyecto Final Henry\\Oregon.csv\")\n",
    "new_york = pd.read_csv(r\"C:\\Users\\jessi\\Desktop\\Proyecto Final Henry\\New_York.csv\")\n",
    "\n",
    "dataframes = [tennessee, georgia, ohio, california, florida, washington, colorado, massachusetts, kansas, north_carolina, missouri, minnesota, pennsylvania, utah, illinois, texas, oregon, new_york]\n",
    "\n",
    "estados = pd.concat(dataframes, ignore_index=True)"
   ]
  },
  {
   "cell_type": "code",
   "execution_count": 6,
   "metadata": {},
   "outputs": [],
   "source": [
    "import numpy as np\n",
    "from sklearn.feature_extraction.text import TfidfVectorizer\n",
    "\n"
   ]
  },
  {
   "cell_type": "code",
   "execution_count": 7,
   "metadata": {},
   "outputs": [],
   "source": [
    "estados = estados.dropna()\n"
   ]
  },
  {
   "cell_type": "code",
   "execution_count": 53,
   "metadata": {},
   "outputs": [
    {
     "name": "stdout",
     "output_type": "stream",
     "text": [
      "                     nombre_local  avg_rating              direccion   ciudad\n",
      "265577  Vapiano Chicago Riverside         4.3  222 S Riverside Plaza  Chicago\n",
      "240067       Devil Dawgs on State         4.4         767 S State St  Chicago\n",
      "258564                    Kaathis         3.9     2273 N Lincoln Ave  Chicago\n",
      "232663              Wake ‘n Bacon         4.1      420 W Belmont Ave  Chicago\n",
      "268318    Little Bucharest Bistro         4.6      3661 N Elston Ave  Chicago\n"
     ]
    }
   ],
   "source": [
    "estados['combined_features'] = estados['nombre_local'].astype(str) + ' ' + estados['ciudad'].astype(str).fillna('') + ' ' + estados['review_sentiment'].astype(str).fillna('')\n",
    "\n",
    "# Muestra de datos para evitar problemas de memoria\n",
    "sample_size = 2000  # Aumentar el tamaño de la muestra si es necesario\n",
    "df_sampled = estados.sample(n=sample_size, random_state=42)\n",
    "\n",
    "# Vectorización TF-IDF\n",
    "tfidf = TfidfVectorizer(stop_words='english')\n",
    "tfidf_matrix = tfidf.fit_transform(df_sampled['combined_features'])\n",
    "\n",
    "# Cálculo de la similitud del coseno\n",
    "cosine_sim_sampled = cosine_similarity(tfidf_matrix, tfidf_matrix)\n",
    "cosine_sim_sampled_df = pd.DataFrame(cosine_sim_sampled, index=df_sampled['nombre_local'], columns=df_sampled['nombre_local'])\n",
    "\n",
    "def recommend_restaurant(restaurante, ciudad):\n",
    "    restaurante = restaurante.strip()  \n",
    "\n",
    "    if restaurante not in cosine_sim_sampled_df.index:\n",
    "        return f\"Restaurant named '{restaurante}' not found in the dataset.\"\n",
    "\n",
    "    restaurantes_ciudad = df_sampled[df_sampled['ciudad'].str.lower() == ciudad.lower()]\n",
    "\n",
    "    # Verificar que hay restaurantes en la ciudad especificada\n",
    "    if restaurantes_ciudad.empty:\n",
    "        return f\"No restaurants found in the city '{ciudad}'.\"\n",
    "\n",
    "    sim_scores = cosine_sim_sampled_df.loc[restaurante, restaurantes_ciudad['nombre_local']]\n",
    "\n",
    "    sim_scores = sim_scores.sort_values(ascending=False)\n",
    "    top_similar_restaurants = sim_scores.index[sim_scores.index != restaurante]\n",
    "\n",
    "    recommended_restaurants = restaurantes_ciudad[restaurantes_ciudad['nombre_local'].isin(top_similar_restaurants)][['nombre_local', 'avg_rating', 'direccion', 'ciudad']]\n",
    "    recommended_restaurants = recommended_restaurants.drop_duplicates(subset=['nombre_local']).iloc[:5]\n",
    "\n",
    "\n",
    "    return recommended_restaurants \n",
    "\n",
    "# Ejemplo de uso\n",
    "resultado = recommend_restaurant(\"Mezcaleria Las Flores\", \"Chicago\")\n",
    "print(resultado)"
   ]
  }
 ],
 "metadata": {
  "kernelspec": {
   "display_name": "Python 3",
   "language": "python",
   "name": "python3"
  },
  "language_info": {
   "codemirror_mode": {
    "name": "ipython",
    "version": 3
   },
   "file_extension": ".py",
   "mimetype": "text/x-python",
   "name": "python",
   "nbconvert_exporter": "python",
   "pygments_lexer": "ipython3",
   "version": "3.12.0"
  }
 },
 "nbformat": 4,
 "nbformat_minor": 2
}
