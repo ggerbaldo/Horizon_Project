{
 "cells": [
  {
   "cell_type": "code",
   "execution_count": 3,
   "metadata": {},
   "outputs": [
    {
     "name": "stdout",
     "output_type": "stream",
     "text": [
      "Requirement already satisfied: faiss-cpu in c:\\users\\jessi\\appdata\\local\\programs\\python\\python312\\lib\\site-packages (1.8.0.post1)\n",
      "Requirement already satisfied: numpy<2.0,>=1.0 in c:\\users\\jessi\\appdata\\local\\programs\\python\\python312\\lib\\site-packages (from faiss-cpu) (1.26.3)\n",
      "Requirement already satisfied: packaging in c:\\users\\jessi\\appdata\\roaming\\python\\python312\\site-packages (from faiss-cpu) (23.2)\n"
     ]
    },
    {
     "name": "stderr",
     "output_type": "stream",
     "text": [
      "\n",
      "[notice] A new release of pip is available: 24.1.1 -> 24.2\n",
      "[notice] To update, run: python.exe -m pip install --upgrade pip\n"
     ]
    }
   ],
   "source": [
    "import sys\n",
    "!{sys.executable} -m pip install faiss-cpu"
   ]
  },
  {
   "cell_type": "code",
   "execution_count": 4,
   "metadata": {},
   "outputs": [],
   "source": [
    "import pandas as pd \n",
    "import matplotlib.pyplot as plt\n",
    "import seaborn as sns\n",
    "from sklearn.preprocessing import StandardScaler\n",
    "from sklearn.metrics.pairwise import cosine_similarity\n",
    "import faiss\n",
    "\n"
   ]
  },
  {
   "cell_type": "code",
   "execution_count": 5,
   "metadata": {},
   "outputs": [],
   "source": [
    "tennessee = pd.read_csv(r\"C:\\Users\\jessi\\Desktop\\Proyecto Final Henry\\Tennesse.csv\")\n",
    "georgia = pd.read_csv(r\"C:\\Users\\jessi\\Desktop\\Proyecto Final Henry\\Georgia.csv\")\n",
    "ohio = pd.read_csv(r\"C:\\Users\\jessi\\Desktop\\Proyecto Final Henry\\Ohio.csv\")\n",
    "california = pd.read_csv(r\"C:\\Users\\jessi\\Desktop\\Proyecto Final Henry\\California.csv\")\n",
    "florida = pd.read_csv(r\"C:\\Users\\jessi\\Desktop\\Proyecto Final Henry\\Florida.csv\")\n",
    "washington = pd.read_csv(r\"C:\\Users\\jessi\\Desktop\\Proyecto Final Henry\\Washington.csv\")\n",
    "colorado = pd.read_csv(r\"C:\\Users\\jessi\\Desktop\\Proyecto Final Henry\\Colorado.csv\")\n",
    "massachusetts = pd.read_csv(r\"C:\\Users\\jessi\\Desktop\\Proyecto Final Henry\\Massachusetts.csv\")\n",
    "kansas = pd.read_csv(r\"C:\\Users\\jessi\\Desktop\\Proyecto Final Henry\\Kansas.csv\")\n",
    "north_carolina = pd.read_csv(r\"C:\\Users\\jessi\\Desktop\\Proyecto Final Henry\\North_Carolina.csv\")\n",
    "missouri = pd.read_csv(r\"C:\\Users\\jessi\\Desktop\\Proyecto Final Henry\\Missouri.csv\")\n",
    "minnesota = pd.read_csv(r\"C:\\Users\\jessi\\Desktop\\Proyecto Final Henry\\Minnesota.csv\")\n",
    "pennsylvania = pd.read_csv(r\"C:\\Users\\jessi\\Desktop\\Proyecto Final Henry\\Pennsylvania.csv\")\n",
    "utah = pd.read_csv(r\"C:\\Users\\jessi\\Desktop\\Proyecto Final Henry\\Utah.csv\")\n",
    "illinois = pd.read_csv(r\"C:\\Users\\jessi\\Desktop\\Proyecto Final Henry\\Illinois.csv\")\n",
    "texas = pd.read_csv(r\"C:\\Users\\jessi\\Desktop\\Proyecto Final Henry\\Texas.csv\")\n",
    "oregon = pd.read_csv(r\"C:\\Users\\jessi\\Desktop\\Proyecto Final Henry\\Oregon.csv\")\n",
    "new_york = pd.read_csv(r\"C:\\Users\\jessi\\Desktop\\Proyecto Final Henry\\New_York.csv\")\n",
    "\n",
    "dataframes = [tennessee, georgia, ohio, california, florida, washington, colorado, massachusetts, kansas, north_carolina, missouri, minnesota, pennsylvania, utah, illinois, texas, oregon, new_york]\n",
    "\n",
    "estados = pd.concat(dataframes, ignore_index=True)"
   ]
  },
  {
   "cell_type": "code",
   "execution_count": 6,
   "metadata": {},
   "outputs": [],
   "source": [
    "import numpy as np\n",
    "from sklearn.feature_extraction.text import TfidfVectorizer\n",
    "\n"
   ]
  },
  {
   "cell_type": "code",
   "execution_count": 7,
   "metadata": {},
   "outputs": [],
   "source": [
    "estados = estados.dropna()\n"
   ]
  },
  {
   "cell_type": "code",
   "execution_count": 57,
   "metadata": {},
   "outputs": [
    {
     "ename": "TypeError",
     "evalue": "DataFrame.sort_values() missing 1 required positional argument: 'by'",
     "output_type": "error",
     "traceback": [
      "\u001b[1;31m---------------------------------------------------------------------------\u001b[0m",
      "\u001b[1;31mTypeError\u001b[0m                                 Traceback (most recent call last)",
      "\u001b[1;32mc:\\Users\\jessi\\Desktop\\Horizon_Project\\ML.ipynb Cell 6\u001b[0m line \u001b[0;36m3\n\u001b[0;32m     <a href='vscode-notebook-cell:/c%3A/Users/jessi/Desktop/Horizon_Project/ML.ipynb#X26sZmlsZQ%3D%3D?line=35'>36</a>\u001b[0m     \u001b[39mreturn\u001b[39;00m recommended_restaurants \n\u001b[0;32m     <a href='vscode-notebook-cell:/c%3A/Users/jessi/Desktop/Horizon_Project/ML.ipynb#X26sZmlsZQ%3D%3D?line=37'>38</a>\u001b[0m \u001b[39m# Ejemplo de uso\u001b[39;00m\n\u001b[1;32m---> <a href='vscode-notebook-cell:/c%3A/Users/jessi/Desktop/Horizon_Project/ML.ipynb#X26sZmlsZQ%3D%3D?line=38'>39</a>\u001b[0m resultado \u001b[39m=\u001b[39m recommend_restaurant(\u001b[39m\"\u001b[39;49m\u001b[39mDELICIO Coal Fired Pizza\u001b[39;49m\u001b[39m\"\u001b[39;49m, \u001b[39m\"\u001b[39;49m\u001b[39mCincinnati\u001b[39;49m\u001b[39m\"\u001b[39;49m)\n\u001b[0;32m     <a href='vscode-notebook-cell:/c%3A/Users/jessi/Desktop/Horizon_Project/ML.ipynb#X26sZmlsZQ%3D%3D?line=39'>40</a>\u001b[0m \u001b[39mprint\u001b[39m(resultado)\n",
      "\u001b[1;32mc:\\Users\\jessi\\Desktop\\Horizon_Project\\ML.ipynb Cell 6\u001b[0m line \u001b[0;36m2\n\u001b[0;32m     <a href='vscode-notebook-cell:/c%3A/Users/jessi/Desktop/Horizon_Project/ML.ipynb#X26sZmlsZQ%3D%3D?line=24'>25</a>\u001b[0m     \u001b[39mreturn\u001b[39;00m \u001b[39mf\u001b[39m\u001b[39m\"\u001b[39m\u001b[39mNo restaurants found in the city \u001b[39m\u001b[39m'\u001b[39m\u001b[39m{\u001b[39;00mciudad\u001b[39m}\u001b[39;00m\u001b[39m'\u001b[39m\u001b[39m.\u001b[39m\u001b[39m\"\u001b[39m\n\u001b[0;32m     <a href='vscode-notebook-cell:/c%3A/Users/jessi/Desktop/Horizon_Project/ML.ipynb#X26sZmlsZQ%3D%3D?line=26'>27</a>\u001b[0m sim_scores \u001b[39m=\u001b[39m cosine_sim_sampled_df\u001b[39m.\u001b[39mloc[restaurante, restaurantes_ciudad[\u001b[39m'\u001b[39m\u001b[39mnombre_local\u001b[39m\u001b[39m'\u001b[39m]]\n\u001b[1;32m---> <a href='vscode-notebook-cell:/c%3A/Users/jessi/Desktop/Horizon_Project/ML.ipynb#X26sZmlsZQ%3D%3D?line=28'>29</a>\u001b[0m sim_scores \u001b[39m=\u001b[39m sim_scores\u001b[39m.\u001b[39;49msort_values(ascending\u001b[39m=\u001b[39;49m\u001b[39mFalse\u001b[39;49;00m)\n\u001b[0;32m     <a href='vscode-notebook-cell:/c%3A/Users/jessi/Desktop/Horizon_Project/ML.ipynb#X26sZmlsZQ%3D%3D?line=29'>30</a>\u001b[0m top_similar_restaurants \u001b[39m=\u001b[39m sim_scores\u001b[39m.\u001b[39mindex[sim_scores\u001b[39m.\u001b[39mindex \u001b[39m!=\u001b[39m restaurante]\n\u001b[0;32m     <a href='vscode-notebook-cell:/c%3A/Users/jessi/Desktop/Horizon_Project/ML.ipynb#X26sZmlsZQ%3D%3D?line=31'>32</a>\u001b[0m recommended_restaurants \u001b[39m=\u001b[39m restaurantes_ciudad[restaurantes_ciudad[\u001b[39m'\u001b[39m\u001b[39mnombre_local\u001b[39m\u001b[39m'\u001b[39m]\u001b[39m.\u001b[39misin(top_similar_restaurants)][[\u001b[39m'\u001b[39m\u001b[39mnombre_local\u001b[39m\u001b[39m'\u001b[39m, \u001b[39m'\u001b[39m\u001b[39mavg_rating\u001b[39m\u001b[39m'\u001b[39m, \u001b[39m'\u001b[39m\u001b[39mdireccion\u001b[39m\u001b[39m'\u001b[39m, \u001b[39m'\u001b[39m\u001b[39mciudad\u001b[39m\u001b[39m'\u001b[39m]]\n",
      "\u001b[1;31mTypeError\u001b[0m: DataFrame.sort_values() missing 1 required positional argument: 'by'"
     ]
    }
   ],
   "source": [
    "estados['combined_features'] = estados['nombre_local'].astype(str) + ' ' + estados['ciudad'].astype(str).fillna('') + ' ' + estados['review_sentiment'].astype(str).fillna('')\n",
    "\n",
    "# Muestra de datos para evitar problemas de memoria\n",
    "#sample_size = 2000  # Aumentar el tamaño de la muestra si es necesario\n",
    "#df_sampled = estados.sample(n=sample_size, random_state=42)\n",
    "\n",
    "# Vectorización TF-IDF\n",
    "tfidf = TfidfVectorizer(stop_words='english')\n",
    "tfidf_matrix = tfidf.fit_transform(df_sampled['combined_features'])\n",
    "\n",
    "# Cálculo de la similitud del coseno\n",
    "cosine_sim_sampled = cosine_similarity(tfidf_matrix, tfidf_matrix)\n",
    "cosine_sim_sampled_df = pd.DataFrame(cosine_sim_sampled, index=df_sampled['nombre_local'], columns=df_sampled['nombre_local'])\n",
    "\n",
    "def recommend_restaurant(restaurante, ciudad):\n",
    "    restaurante = restaurante.strip()  \n",
    "\n",
    "    if restaurante not in cosine_sim_sampled_df.index:\n",
    "        return f\"Restaurant named '{restaurante}' not found in the dataset.\"\n",
    "\n",
    "    restaurantes_ciudad = df_sampled[df_sampled['ciudad'].str.lower() == ciudad.lower()]\n",
    "\n",
    "    # Verificar que hay restaurantes en la ciudad especificada\n",
    "    if restaurantes_ciudad.empty:\n",
    "        return f\"No restaurants found in the city '{ciudad}'.\"\n",
    "\n",
    "    sim_scores = cosine_sim_sampled_df.loc[restaurante, restaurantes_ciudad['nombre_local']]\n",
    "\n",
    "    sim_scores = sim_scores.sort_values(ascending=False)\n",
    "    top_similar_restaurants = sim_scores.index[sim_scores.index != restaurante]\n",
    "\n",
    "    recommended_restaurants = restaurantes_ciudad[restaurantes_ciudad['nombre_local'].isin(top_similar_restaurants)][['nombre_local', 'avg_rating', 'direccion', 'ciudad']]\n",
    "    recommended_restaurants = recommended_restaurants.drop_duplicates(subset=['nombre_local']).iloc[:5]\n",
    "\n",
    "\n",
    "    return recommended_restaurants \n",
    "\n",
    "# Ejemplo de uso\n",
    "resultado = recommend_restaurant(\"DELICIO Coal Fired Pizza\", \"Cincinnati\")\n",
    "print(resultado)"
   ]
  },
  {
   "cell_type": "code",
   "execution_count": 68,
   "metadata": {},
   "outputs": [
    {
     "name": "stdout",
     "output_type": "stream",
     "text": [
      "                    nombre_local  avg_rating          direccion    ciudad\n",
      "380286               Shake Shack         4.4   154 East 86th St  New York\n",
      "440452  Chopt Creative Salad Co.         4.0       11 W 42nd St  New York\n",
      "369050                  Buddakan         4.5         75 9th Ave  New York\n",
      "371870               Café Boulud         4.5       20 E 76th St  New York\n",
      "367094                Sarabeth's         4.1  40 Central Park S  New York\n"
     ]
    },
    {
     "name": "stderr",
     "output_type": "stream",
     "text": [
      "C:\\Users\\jessi\\AppData\\Local\\Temp\\ipykernel_14992\\218628403.py:8: SettingWithCopyWarning: \n",
      "A value is trying to be set on a copy of a slice from a DataFrame.\n",
      "Try using .loc[row_indexer,col_indexer] = value instead\n",
      "\n",
      "See the caveats in the documentation: https://pandas.pydata.org/pandas-docs/stable/user_guide/indexing.html#returning-a-view-versus-a-copy\n",
      "  states_filtred['combined_features'] = states_filtred['nombre_local'].astype(str) + ' ' + estados_filtrado['ciudad'].astype(str).fillna('') + ' ' + estados_filtrado['review_sentiment'].astype(str).fillna('')\n"
     ]
    }
   ],
   "source": [
    "\n",
    "\n",
    "restaurantes_50_review = estados['nombre_local'].value_counts()\n",
    "restaurantes_50_review = restaurantes_50_review[restaurantes_50_review > 50].index\n",
    "\n",
    "states_filtred = estados[estados['nombre_local'].isin(restaurantes_50_review)]\n",
    "\n",
    "states_filtred['combined_features'] = states_filtred['nombre_local'].astype(str) + ' ' + estados_filtrado['ciudad'].astype(str).fillna('') + ' ' + estados_filtrado['review_sentiment'].astype(str).fillna('')\n",
    "\n",
    "# Muestra de datos para evitar problemas de memoria\n",
    "sample_size = 2000 \n",
    "df_sampled1 = states_filtred.sample(n=sample_size, random_state=42)\n",
    "\n",
    "# Vectorización TF-IDF\n",
    "tfidf = TfidfVectorizer(stop_words='english')\n",
    "tfidf_matrix = tfidf.fit_transform(df_sampled1['combined_features'])\n",
    "\n",
    "# Cálculo de la similitud del coseno\n",
    "cosine_sim_sampled = cosine_similarity(tfidf_matrix, tfidf_matrix)\n",
    "cosine_sim_sampled_df = pd.DataFrame(cosine_sim_sampled, index=df_sampled1['nombre_local'], columns=df_sampled['nombre_local'])\n",
    "\n",
    "def recommend_restaurant(restaurante, ciudad):\n",
    "    restaurante = restaurante.strip()  \n",
    "\n",
    "    if restaurante not in cosine_sim_sampled_df.index:\n",
    "        return f\"Restaurant named '{restaurante}' not found in the dataset.\"\n",
    "\n",
    "    # Filtrar los restaurantes de la misma ciudad\n",
    "    restaurantes_city = df_sampled1[df_sampled1['ciudad'].str.lower() == ciudad.lower()]\n",
    "\n",
    "    if restaurantes_city.empty:\n",
    "        return f\"No restaurants found in the city '{ciudad}'.\"\n",
    "\n",
    "    sim_scores = cosine_sim_sampled_df.loc[restaurante, restaurantes_city['nombre_local']]\n",
    "\n",
    "    if isinstance(sim_scores, pd.DataFrame):\n",
    "        sim_scores = sim_scores.iloc[0]\n",
    "\n",
    "    sim_scores = sim_scores.sort_values(ascending=False)\n",
    "    top_similar_restaurants = sim_scores.index[sim_scores.index != restaurante]\n",
    "\n",
    "    recommended_restaurants = restaurantes_city[restaurantes_city['nombre_local'].isin(top_similar_restaurants)][['nombre_local', 'avg_rating', 'direccion', 'ciudad']]\n",
    "    recommended_restaurants = recommended_restaurants.drop_duplicates(subset=['nombre_local']).iloc[:5]\n",
    "\n",
    "    num_recommendations = recommended_restaurants.shape[0]\n",
    "\n",
    "    return recommended_restaurants \n",
    "\n",
    "resultado = recommend_restaurant(\"The Lambs Club\", \"New York\")\n",
    "print(resultado)\n"
   ]
  }
 ],
 "metadata": {
  "kernelspec": {
   "display_name": "Python 3",
   "language": "python",
   "name": "python3"
  },
  "language_info": {
   "codemirror_mode": {
    "name": "ipython",
    "version": 3
   },
   "file_extension": ".py",
   "mimetype": "text/x-python",
   "name": "python",
   "nbconvert_exporter": "python",
   "pygments_lexer": "ipython3",
   "version": "3.12.0"
  }
 },
 "nbformat": 4,
 "nbformat_minor": 2
}
