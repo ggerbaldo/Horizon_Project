{
 "cells": [
  {
   "cell_type": "code",
   "execution_count": 1,
   "metadata": {},
   "outputs": [],
   "source": [
    "import pandas as pd \n",
    "import json \n",
    "\n"
   ]
  },
  {
   "cell_type": "code",
   "execution_count": 2,
   "metadata": {},
   "outputs": [],
   "source": [
    "data = [] \n",
    "with open('/Users/pabloclementi/Desktop/ProyectoFinal/4.json', 'r', encoding='utf-8') as file:\n",
    "    for line in file:\n",
    "        data.append(json.loads(line))"
   ]
  },
  {
   "cell_type": "code",
   "execution_count": 3,
   "metadata": {},
   "outputs": [],
   "source": [
    "#pasamos a dataframe \n",
    "df = pd.DataFrame(data)"
   ]
  },
  {
   "cell_type": "code",
   "execution_count": null,
   "metadata": {},
   "outputs": [],
   "source": [
    "df"
   ]
  },
  {
   "cell_type": "code",
   "execution_count": 4,
   "metadata": {},
   "outputs": [],
   "source": [
    "import pandas as pd\n",
    "import datetime\n",
    "\n",
    "def calcular_fecha_desde_milisegundos(milisegundos):\n",
    "    \"\"\"\n",
    "    Convierte una cantidad de milisegundos desde el 1 de enero de 1970 a una fecha.\n",
    "    \n",
    "    Args:\n",
    "    milisegundos (int): Cantidad de milisegundos desde el 1 de enero de 1970.\n",
    "\n",
    "    Returns:\n",
    "    datetime.datetime: La fecha resultante, o NaT si el valor está fuera del rango.\n",
    "    \"\"\"\n",
    "    try:\n",
    "        # Convertir milisegundos a segundos\n",
    "        segundos = milisegundos / 1000\n",
    "        \n",
    "        # Fecha base (1 de enero de 1970)\n",
    "        fecha_base = datetime.datetime(1970, 1, 1)\n",
    "        \n",
    "        # Convertir los segundos a fecha\n",
    "        fecha_actual = fecha_base + datetime.timedelta(seconds=segundos)\n",
    "        return fecha_actual\n",
    "    except OverflowError:\n",
    "        # Manejar el error en caso de valores fuera de rango\n",
    "        return pd.NaT\n",
    "\n",
    "def convertir_time_a_fecha(df):\n",
    "    \"\"\"\n",
    "    Convierte la columna 'time' de milisegundos desde el Unix epoch a fechas,\n",
    "    y agrega una nueva columna 'fecha' en formato 'dd/mm/aaaa'.\n",
    "\n",
    "    Args:\n",
    "    df (pd.DataFrame): DataFrame que contiene la columna 'time'.\n",
    "\n",
    "    Returns:\n",
    "    pd.DataFrame: DataFrame con la columna 'fecha' agregada.\n",
    "    \"\"\"\n",
    "    # Verificar si la columna 'time' existe en el DataFrame\n",
    "    if 'time' not in df.columns:\n",
    "        raise ValueError(\"El DataFrame no contiene una columna llamada 'time'.\")\n",
    "    \n",
    "    # Aplicar la conversión a la columna 'time'\n",
    "    df['time'] = df['time'].apply(calcular_fecha_desde_milisegundos)\n",
    "    \n",
    "    # Crear una nueva columna con el formato de fecha 'dd/mm/aaaa'\n",
    "    df['fecha'] = df['time'].dt.strftime('%d/%m/%Y')\n",
    "    \n",
    "    return df\n",
    "\n",
    "# Ejemplo de uso\n",
    "# df = pd.read_csv('ruta/al/archivo.csv')  # Cargar el DataFrame de otra manera\n",
    "# df_modificado = convertir_time_a_fecha(df)\n",
    "# print(df_modificado.head())"
   ]
  },
  {
   "cell_type": "code",
   "execution_count": 5,
   "metadata": {},
   "outputs": [
    {
     "name": "stdout",
     "output_type": "stream",
     "text": [
      "                 user_id           name                    time  rating  \\\n",
      "0  108281556948611282884  Rajeev Saxena 2018-07-31 21:24:13.752       3   \n",
      "1  109782592799785536180   Tommy Gerrin 2019-06-28 19:34:32.112       3   \n",
      "2  111614815258510664927    Buffy Wingo 2016-11-22 18:32:40.515       1   \n",
      "3  113084976152707660718      Mike King 2018-03-26 06:31:24.023       2   \n",
      "4  116155951205758542638        Daija J 2017-08-12 03:20:08.409       3   \n",
      "\n",
      "                                                text  pics  resp  \\\n",
      "0  The clown maintains standards.  All McD's are ...  None  None   \n",
      "1  Average at best. They really need to get back ...  None  None   \n",
      "2  Last week we dealt with an extremely rude empl...  None  None   \n",
      "3  This Mcdonalds has horrible customer service e...  None  None   \n",
      "4  Food has changed. Not as good as it use to be....  None  None   \n",
      "\n",
      "                                 gmap_id       fecha  \n",
      "0  0x888aa31d2f165843:0x9b3bd7d8285acc3a  31/07/2018  \n",
      "1  0x888aa31d2f165843:0x9b3bd7d8285acc3a  28/06/2019  \n",
      "2  0x888aa31d2f165843:0x9b3bd7d8285acc3a  22/11/2016  \n",
      "3  0x888aa31d2f165843:0x9b3bd7d8285acc3a  26/03/2018  \n",
      "4  0x888aa31d2f165843:0x9b3bd7d8285acc3a  12/08/2017  \n"
     ]
    }
   ],
   "source": [
    "df_modificado = convertir_time_a_fecha(df)\n",
    "print(df_modificado.head())"
   ]
  },
  {
   "cell_type": "code",
   "execution_count": null,
   "metadata": {},
   "outputs": [],
   "source": [
    "df_modificado"
   ]
  }
 ],
 "metadata": {
  "kernelspec": {
   "display_name": "Python 3",
   "language": "python",
   "name": "python3"
  },
  "language_info": {
   "codemirror_mode": {
    "name": "ipython",
    "version": 3
   },
   "file_extension": ".py",
   "mimetype": "text/x-python",
   "name": "python",
   "nbconvert_exporter": "python",
   "pygments_lexer": "ipython3",
   "version": "3.12.1"
  }
 },
 "nbformat": 4,
 "nbformat_minor": 2
}
