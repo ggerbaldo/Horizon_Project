{
 "cells": [
  {
   "cell_type": "code",
   "execution_count": 1,
   "metadata": {},
   "outputs": [],
   "source": [
    "import pandas as pd \n"
   ]
  },
  {
   "cell_type": "code",
   "execution_count": 2,
   "metadata": {},
   "outputs": [],
   "source": [
    "#Leemos archivo estado \n",
    "df_estado = pd.read_csv('/Users/pabloclementi/Desktop/Estados (1).csv')"
   ]
  },
  {
   "cell_type": "code",
   "execution_count": 3,
   "metadata": {},
   "outputs": [
    {
     "data": {
      "text/plain": [
       "Index(['Unnamed: 0', 'user_id', 'name_x', 'time', 'rating', 'text', 'gmap_id',\n",
       "       'fecha', 'name_y', 'address', 'latitude', 'longitude', 'category',\n",
       "       'avg_rating', 'num_of_reviews', 'url', 'estadium', 'review_sentiment'],\n",
       "      dtype='object')"
      ]
     },
     "execution_count": 3,
     "metadata": {},
     "output_type": "execute_result"
    }
   ],
   "source": [
    "df_estado.columns\n"
   ]
  },
  {
   "cell_type": "code",
   "execution_count": 4,
   "metadata": {},
   "outputs": [
    {
     "data": {
      "text/html": [
       "<div>\n",
       "<style scoped>\n",
       "    .dataframe tbody tr th:only-of-type {\n",
       "        vertical-align: middle;\n",
       "    }\n",
       "\n",
       "    .dataframe tbody tr th {\n",
       "        vertical-align: top;\n",
       "    }\n",
       "\n",
       "    .dataframe thead th {\n",
       "        text-align: right;\n",
       "    }\n",
       "</style>\n",
       "<table border=\"1\" class=\"dataframe\">\n",
       "  <thead>\n",
       "    <tr style=\"text-align: right;\">\n",
       "      <th></th>\n",
       "      <th>Unnamed: 0</th>\n",
       "      <th>user_id</th>\n",
       "      <th>name_x</th>\n",
       "      <th>time</th>\n",
       "      <th>rating</th>\n",
       "      <th>text</th>\n",
       "      <th>gmap_id</th>\n",
       "      <th>fecha</th>\n",
       "      <th>name_y</th>\n",
       "      <th>address</th>\n",
       "      <th>latitude</th>\n",
       "      <th>longitude</th>\n",
       "      <th>category</th>\n",
       "      <th>avg_rating</th>\n",
       "      <th>num_of_reviews</th>\n",
       "      <th>url</th>\n",
       "      <th>estadium</th>\n",
       "      <th>review_sentiment</th>\n",
       "    </tr>\n",
       "  </thead>\n",
       "  <tbody>\n",
       "    <tr>\n",
       "      <th>0</th>\n",
       "      <td>0</td>\n",
       "      <td>1.145221e+20</td>\n",
       "      <td>Jessica</td>\n",
       "      <td>1485482099301</td>\n",
       "      <td>5</td>\n",
       "      <td>Where has this been all my life!!! SMOOTHIE KI...</td>\n",
       "      <td>0x886466a4208f8ced:0x4e8c845aebe361fe</td>\n",
       "      <td>27/01/2017</td>\n",
       "      <td>Smoothie King</td>\n",
       "      <td>Smoothie King, 2700 Children's Way, Nashville,...</td>\n",
       "      <td>36.139748</td>\n",
       "      <td>-86.8089</td>\n",
       "      <td>['Juice shop', 'Fast food restaurant', 'Health...</td>\n",
       "      <td>4.0</td>\n",
       "      <td>8</td>\n",
       "      <td>https://www.google.com/maps/place//data=!4m2!3...</td>\n",
       "      <td>Geodis Park</td>\n",
       "      <td>NaN</td>\n",
       "    </tr>\n",
       "    <tr>\n",
       "      <th>1</th>\n",
       "      <td>1</td>\n",
       "      <td>1.167070e+20</td>\n",
       "      <td>nancy lewis</td>\n",
       "      <td>1467655878320</td>\n",
       "      <td>4</td>\n",
       "      <td>Very nice guy that works there.</td>\n",
       "      <td>0x886466a4208f8ced:0x4e8c845aebe361fe</td>\n",
       "      <td>04/07/2016</td>\n",
       "      <td>Smoothie King</td>\n",
       "      <td>Smoothie King, 2700 Children's Way, Nashville,...</td>\n",
       "      <td>36.139748</td>\n",
       "      <td>-86.8089</td>\n",
       "      <td>['Juice shop', 'Fast food restaurant', 'Health...</td>\n",
       "      <td>4.0</td>\n",
       "      <td>8</td>\n",
       "      <td>https://www.google.com/maps/place//data=!4m2!3...</td>\n",
       "      <td>Geodis Park</td>\n",
       "      <td>NaN</td>\n",
       "    </tr>\n",
       "  </tbody>\n",
       "</table>\n",
       "</div>"
      ],
      "text/plain": [
       "   Unnamed: 0       user_id       name_x           time  rating  \\\n",
       "0           0  1.145221e+20      Jessica  1485482099301       5   \n",
       "1           1  1.167070e+20  nancy lewis  1467655878320       4   \n",
       "\n",
       "                                                text  \\\n",
       "0  Where has this been all my life!!! SMOOTHIE KI...   \n",
       "1                    Very nice guy that works there.   \n",
       "\n",
       "                                 gmap_id       fecha         name_y  \\\n",
       "0  0x886466a4208f8ced:0x4e8c845aebe361fe  27/01/2017  Smoothie King   \n",
       "1  0x886466a4208f8ced:0x4e8c845aebe361fe  04/07/2016  Smoothie King   \n",
       "\n",
       "                                             address   latitude  longitude  \\\n",
       "0  Smoothie King, 2700 Children's Way, Nashville,...  36.139748   -86.8089   \n",
       "1  Smoothie King, 2700 Children's Way, Nashville,...  36.139748   -86.8089   \n",
       "\n",
       "                                            category  avg_rating  \\\n",
       "0  ['Juice shop', 'Fast food restaurant', 'Health...         4.0   \n",
       "1  ['Juice shop', 'Fast food restaurant', 'Health...         4.0   \n",
       "\n",
       "   num_of_reviews                                                url  \\\n",
       "0               8  https://www.google.com/maps/place//data=!4m2!3...   \n",
       "1               8  https://www.google.com/maps/place//data=!4m2!3...   \n",
       "\n",
       "      estadium  review_sentiment  \n",
       "0  Geodis Park               NaN  \n",
       "1  Geodis Park               NaN  "
      ]
     },
     "execution_count": 4,
     "metadata": {},
     "output_type": "execute_result"
    }
   ],
   "source": [
    "df_estado.head(2)"
   ]
  },
  {
   "cell_type": "code",
   "execution_count": 5,
   "metadata": {},
   "outputs": [],
   "source": [
    "# Dejamos solo las columnas de Text,stadium,num_of_reviews,gmap_id,review_rating, url,longitude,review_date,avg_rating,address,review_author,latitude,name_x \n",
    "df_estado = df_estado[['text','estadium','num_of_reviews','gmap_id','rating','url','longitude','fecha','avg_rating','address','name_x','latitude','name_y']]"
   ]
  },
  {
   "cell_type": "code",
   "execution_count": 6,
   "metadata": {},
   "outputs": [],
   "source": [
    "#Remplazamos los nombres de las columnas \n",
    "df_estado = df_estado.rename(columns={'text':'review_text','estadium':'stadium','rating':'review_rating','fecha':'review_date','name_x':'review_author','name_y':'name'})"
   ]
  },
  {
   "cell_type": "code",
   "execution_count": 7,
   "metadata": {},
   "outputs": [
    {
     "name": "stdout",
     "output_type": "stream",
     "text": [
      "<class 'pandas.core.frame.DataFrame'>\n",
      "RangeIndex: 989733 entries, 0 to 989732\n",
      "Data columns (total 13 columns):\n",
      " #   Column          Non-Null Count   Dtype  \n",
      "---  ------          --------------   -----  \n",
      " 0   review_text     576216 non-null  object \n",
      " 1   stadium         989733 non-null  object \n",
      " 2   num_of_reviews  989733 non-null  int64  \n",
      " 3   gmap_id         989733 non-null  object \n",
      " 4   review_rating   989733 non-null  int64  \n",
      " 5   url             989733 non-null  object \n",
      " 6   longitude       989733 non-null  float64\n",
      " 7   review_date     989733 non-null  object \n",
      " 8   avg_rating      989733 non-null  float64\n",
      " 9   address         989389 non-null  object \n",
      " 10  review_author   989725 non-null  object \n",
      " 11  latitude        989733 non-null  float64\n",
      " 12  name            989733 non-null  object \n",
      "dtypes: float64(3), int64(2), object(8)\n",
      "memory usage: 98.2+ MB\n"
     ]
    }
   ],
   "source": [
    "df_estado.info()"
   ]
  },
  {
   "cell_type": "code",
   "execution_count": 8,
   "metadata": {},
   "outputs": [],
   "source": [
    "#Pasamos la columna num_of_reviews,review_rating a float\n",
    "df_estado['num_of_reviews'] = df_estado['num_of_reviews'].astype(float)\n",
    "df_estado['review_rating'] = df_estado['review_rating'].astype(float)"
   ]
  },
  {
   "cell_type": "code",
   "execution_count": 10,
   "metadata": {},
   "outputs": [
    {
     "name": "stderr",
     "output_type": "stream",
     "text": [
      "/var/folders/4k/b142n1x53kq0891h836m2hh80000gn/T/ipykernel_34990/1288013076.py:1: UserWarning: Parsing dates in %d/%m/%Y format when dayfirst=False (the default) was specified. Pass `dayfirst=True` or specify a format to silence this warning.\n",
      "  df_estado['review_date'] = pd.to_datetime(df_estado['review_date'], errors='coerce')\n"
     ]
    }
   ],
   "source": [
    "df_estado['review_date'] = pd.to_datetime(df_estado['review_date'], errors='coerce')"
   ]
  },
  {
   "cell_type": "code",
   "execution_count": 11,
   "metadata": {},
   "outputs": [],
   "source": [
    "# Convertir la columna a formato string con el formato YYYY-MM-DD\n",
    "df_estado['review_date'] = df_estado['review_date'].dt.strftime('%Y-%m-%d')"
   ]
  },
  {
   "cell_type": "code",
   "execution_count": 12,
   "metadata": {},
   "outputs": [
    {
     "name": "stdout",
     "output_type": "stream",
     "text": [
      "<class 'pandas.core.frame.DataFrame'>\n",
      "RangeIndex: 989733 entries, 0 to 989732\n",
      "Data columns (total 13 columns):\n",
      " #   Column          Non-Null Count   Dtype  \n",
      "---  ------          --------------   -----  \n",
      " 0   review_text     576216 non-null  object \n",
      " 1   stadium         989733 non-null  object \n",
      " 2   num_of_reviews  989733 non-null  float64\n",
      " 3   gmap_id         989733 non-null  object \n",
      " 4   review_rating   989733 non-null  float64\n",
      " 5   url             989733 non-null  object \n",
      " 6   longitude       989733 non-null  float64\n",
      " 7   review_date     989733 non-null  object \n",
      " 8   avg_rating      989733 non-null  float64\n",
      " 9   address         989389 non-null  object \n",
      " 10  review_author   989725 non-null  object \n",
      " 11  latitude        989733 non-null  float64\n",
      " 12  name            989733 non-null  object \n",
      "dtypes: float64(5), object(8)\n",
      "memory usage: 98.2+ MB\n"
     ]
    }
   ],
   "source": [
    "df_estado.info()"
   ]
  },
  {
   "cell_type": "code",
   "execution_count": 15,
   "metadata": {},
   "outputs": [],
   "source": [
    "#Rellenamos las columnas de texto con \"SinDato\"\n",
    "df_estado['review_text'] = df_estado['review_text'].fillna('SinDato')\n",
    "df_estado['stadium'] = df_estado['stadium'].fillna('SinDato')\n",
    "df_estado['address'] = df_estado['address'].fillna('SinDato')\n",
    "df_estado['review_author'] = df_estado['review_author'].fillna('SinDato')\n",
    "df_estado['name'] = df_estado['name'].fillna('SinDato')\n"
   ]
  },
  {
   "cell_type": "code",
   "execution_count": 16,
   "metadata": {},
   "outputs": [],
   "source": [
    "#Rellanamos columnas numericas con 0 \n",
    "df_estado['num_of_reviews'] = df_estado['num_of_reviews'].fillna(0)\n",
    "df_estado['review_rating'] = df_estado['review_rating'].fillna(0)\n",
    "df_estado['avg_rating'] = df_estado['avg_rating'].fillna(0)"
   ]
  },
  {
   "cell_type": "code",
   "execution_count": 19,
   "metadata": {},
   "outputs": [],
   "source": [
    "#Contamos duplicados \n",
    "df_estado.duplicated().sum()\n",
    "#Eliminamos duplicados\n",
    "df_estado = df_estado.drop_duplicates()"
   ]
  },
  {
   "cell_type": "code",
   "execution_count": 22,
   "metadata": {},
   "outputs": [
    {
     "name": "stdout",
     "output_type": "stream",
     "text": [
      "<class 'pandas.core.frame.DataFrame'>\n",
      "Index: 845120 entries, 0 to 989732\n",
      "Data columns (total 13 columns):\n",
      " #   Column          Non-Null Count   Dtype  \n",
      "---  ------          --------------   -----  \n",
      " 0   review_text     845120 non-null  object \n",
      " 1   stadium         845120 non-null  object \n",
      " 2   num_of_reviews  845120 non-null  float64\n",
      " 3   gmap_id         845120 non-null  object \n",
      " 4   review_rating   845120 non-null  float64\n",
      " 5   url             845120 non-null  object \n",
      " 6   longitude       845120 non-null  float64\n",
      " 7   review_date     845120 non-null  object \n",
      " 8   avg_rating      845120 non-null  float64\n",
      " 9   address         845120 non-null  object \n",
      " 10  review_author   845120 non-null  object \n",
      " 11  latitude        845120 non-null  float64\n",
      " 12  name            845120 non-null  object \n",
      "dtypes: float64(5), object(8)\n",
      "memory usage: 122.5+ MB\n"
     ]
    }
   ],
   "source": [
    "df_estado.info()"
   ]
  },
  {
   "cell_type": "code",
   "execution_count": 20,
   "metadata": {},
   "outputs": [],
   "source": [
    "#Guardamos el archivo en formato json\n",
    "df_estado.to_json('/Users/pabloclementi/Desktop/reviews_forload5.json', orient='records', lines=True)"
   ]
  },
  {
   "cell_type": "code",
   "execution_count": null,
   "metadata": {},
   "outputs": [],
   "source": []
  }
 ],
 "metadata": {
  "kernelspec": {
   "display_name": "Python 3",
   "language": "python",
   "name": "python3"
  },
  "language_info": {
   "codemirror_mode": {
    "name": "ipython",
    "version": 3
   },
   "file_extension": ".py",
   "mimetype": "text/x-python",
   "name": "python",
   "nbconvert_exporter": "python",
   "pygments_lexer": "ipython3",
   "version": "3.12.1"
  }
 },
 "nbformat": 4,
 "nbformat_minor": 2
}
