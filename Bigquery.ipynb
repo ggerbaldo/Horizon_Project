{
 "cells": [
  {
   "cell_type": "code",
   "execution_count": null,
   "metadata": {},
   "outputs": [],
   "source": [
    "from google.cloud import bigquery\n",
    "\n",
    "# Configura tus credenciales de Google Cloud\n",
    "import os\n",
    "os.environ[\"GOOGLE_APPLICATION_CREDENTIALS\"] = \"credenciales2.json\"\n",
    "\n",
    "def load_json_to_bigquery(dataset_id, table_id, gcs_uri):\n",
    "    \"\"\"Cargar un archivo JSON desde Google Cloud Storage a BigQuery, agregando a la tabla existente si ya existe.\"\"\"\n",
    "    client = bigquery.Client()\n",
    "\n",
    "    # Define la configuración del trabajo de carga\n",
    "    job_config = bigquery.LoadJobConfig(\n",
    "        source_format=bigquery.SourceFormat.NEWLINE_DELIMITED_JSON,\n",
    "        autodetect=True,  # Esto permite que BigQuery detecte el esquema automáticamente\n",
    "        write_disposition=bigquery.WriteDisposition.WRITE_APPEND  # Agrega datos a la tabla si ya existe\n",
    "    )\n",
    "\n",
    "    # Crea una referencia a la tabla\n",
    "    table_ref = client.dataset(dataset_id).table(table_id)\n",
    "\n",
    "    # Realiza la carga desde Cloud Storage\n",
    "    load_job = client.load_table_from_uri(\n",
    "        gcs_uri,\n",
    "        table_ref,\n",
    "        job_config=job_config\n",
    "    )\n",
    "\n",
    "    # Espera a que el trabajo de carga se complete\n",
    "    load_job.result()\n",
    "    print(f\"Carga completa de {gcs_uri} a {dataset_id}.{table_id}.\")\n",
    "\n",
    "def main():\n",
    "    gcs_uri = \"gs://bucket_horizont/restaurants_reviews.json\"\n",
    "    dataset_id = \"horizon\"\n",
    "    table_id = \"Google_reviews\"\n",
    "\n",
    "    load_json_to_bigquery(dataset_id, table_id, gcs_uri)\n",
    "\n",
    "if __name__ == \"__main__\":\n",
    "    main()"
   ]
  }
 ],
 "metadata": {
  "language_info": {
   "name": "python"
  }
 },
 "nbformat": 4,
 "nbformat_minor": 2
}
